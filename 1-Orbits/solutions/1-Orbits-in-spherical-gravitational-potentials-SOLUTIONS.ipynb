{
 "cells": [
  {
   "cell_type": "code",
   "execution_count": 2,
   "id": "b47ada42",
   "metadata": {},
   "outputs": [],
   "source": [
    "%matplotlib inline\n",
    "%run ../../setup/nb_setup"
   ]
  },
  {
   "cell_type": "markdown",
   "id": "00c22714",
   "metadata": {},
   "source": [
    "# Orbits 1: Orbits in Spherical Gravitational Potentials\n",
    "\n",
    "## Solutions to Exercises"
   ]
  },
  {
   "cell_type": "code",
   "execution_count": 3,
   "id": "b3fbd101",
   "metadata": {},
   "outputs": [],
   "source": [
    "from astropy.constants import G\n",
    "import astropy.coordinates as coord\n",
    "import astropy.units as u\n",
    "from astropy.time import Time\n",
    "\n",
    "from IPython.display import display, Math\n",
    "import matplotlib as mpl\n",
    "import matplotlib.pyplot as plt\n",
    "import numpy as np\n",
    "from scipy.integrate import solve_ivp\n",
    "from scipy.signal import argrelmax\n",
    "import sympy as sy\n",
    "\n",
    "import gala.dynamics as gd\n",
    "import gala.integrate as gi\n",
    "import gala.potential as gp\n",
    "from gala.units import galactic"
   ]
  },
  {
   "cell_type": "code",
   "execution_count": 4,
   "id": "cf844d72",
   "metadata": {},
   "outputs": [],
   "source": [
    "def ptmass_acceleration(xyz, M):\n",
    "    \"\"\"\n",
    "    This function computes the 3D acceleration vector at a\n",
    "    position or an array of positions \"xyz\" from a point mass\n",
    "    with mass \"M\" at the origin.\n",
    "\n",
    "    Parameters\n",
    "    ----------\n",
    "    xyz : quantity-like\n",
    "        This should have shape (3, ...)\n",
    "    M : quantity-like\n",
    "        The total mass of the point mass.\n",
    "\n",
    "    \"\"\"\n",
    "    r3 = np.sum(xyz ** 2, axis=0) ** (3 / 2)\n",
    "    dPhi_dx = G * M * xyz / r3\n",
    "    return -dPhi_dx\n",
    "\n",
    "\n",
    "def leapfrog_integrate(acc_func, x0, v0, dt, n_steps, acc_func_args=()):\n",
    "    \"\"\"\n",
    "    Parameters\n",
    "    ----------\n",
    "    acc_func : callable\n",
    "        A function that computes the acceleration at a position.\n",
    "    x0 : quantity-like [length]\n",
    "        Initial position.\n",
    "    v0 : quantity-like [velocity]\n",
    "        Initial velocity.\n",
    "    dt : quantity-like [time]\n",
    "        Timestep.\n",
    "    n_steps : int\n",
    "        The number of timesteps to take.\n",
    "    acc_func_args : iterable, list (optional)\n",
    "        Any additional arguments to be passed to the `acc_func` function.\n",
    "    \"\"\"\n",
    "    # Make sure the input initial conditions and timestep are valid:\n",
    "    x0 = u.Quantity(x0)\n",
    "    v0 = u.Quantity(v0)\n",
    "    ts = u.Quantity(dt) * np.arange(int(n_steps) + 1)\n",
    "\n",
    "    # Initialize the velocity: step forward by 1/2 timestep\n",
    "    a0 = acc_func(x0, *acc_func_args)\n",
    "    v_1_2 = v0 + a0 * dt / 2.0\n",
    "\n",
    "    # Set up array Quantity objects to store the full orbits for both\n",
    "    # position and velocity\n",
    "    xs = np.full((3, len(ts)), np.nan) * x0.unit\n",
    "    xs[:, 0] = x0\n",
    "    vs = np.full((3, len(ts)), np.nan) * v0.unit\n",
    "    vs[:, 0] = v0\n",
    "\n",
    "    x_im1 = x0\n",
    "    v_im1_2 = v_1_2\n",
    "    for i in range(n_steps):\n",
    "        x_i = x_im1 + v_im1_2 * dt\n",
    "        a_i = acc_func(x_i, *acc_func_args)\n",
    "\n",
    "        v_i = v_im1_2 + a_i * dt / 2\n",
    "        v_ip1_2 = v_i + a_i * dt / 2\n",
    "\n",
    "        xs[:, i + 1] = x_i\n",
    "        vs[:, i + 1] = v_i\n",
    "\n",
    "        x_im1 = x_i\n",
    "        v_im1_2 = v_ip1_2\n",
    "\n",
    "    return ts, xs, vs"
   ]
  },
  {
   "cell_type": "markdown",
   "id": "5fdcaea5",
   "metadata": {},
   "source": [
    "### Exercise: Compute the acceleration on the Moon from the Sun and Earth - which is larger?\n",
    "\n",
    "*Hint: The Astropy unit `u.Mearth` might be useful!*\n",
    "\n",
    "*Solution:*"
   ]
  },
  {
   "cell_type": "code",
   "execution_count": 5,
   "id": "752a7aa3",
   "metadata": {},
   "outputs": [],
   "source": [
    "now = Time.now()"
   ]
  },
  {
   "cell_type": "code",
   "execution_count": 6,
   "id": "71a50346",
   "metadata": {},
   "outputs": [],
   "source": [
    "earth_pos = coord.get_body(\"earth\", now)\n",
    "moon_pos = coord.get_body(\"moon\", now)"
   ]
  },
  {
   "cell_type": "code",
   "execution_count": 7,
   "id": "b5a4a40f",
   "metadata": {},
   "outputs": [],
   "source": [
    "moon_ecl = moon_pos.transform_to(coord.HeliocentricTrueEcliptic(obstime=now))\n",
    "moon_xyz_now = moon_ecl.cartesian.xyz\n",
    "moon_acc_sun = ptmass_acceleration(moon_xyz_now, M=1 * u.Msun)"
   ]
  },
  {
   "cell_type": "code",
   "execution_count": 8,
   "id": "cd685dbc",
   "metadata": {},
   "outputs": [],
   "source": [
    "moon_acc_earth = ptmass_acceleration(\n",
    "    (moon_pos.cartesian - earth_pos.cartesian).xyz, M=1 * u.Mearth\n",
    ")"
   ]
  },
  {
   "cell_type": "code",
   "execution_count": 9,
   "id": "b0744597",
   "metadata": {},
   "outputs": [
    {
     "data": {
      "text/plain": [
       "(<Quantity 0.52092645 km / (d s)>, <Quantity 0.24849902 km / (d s)>)"
      ]
     },
     "execution_count": 9,
     "metadata": {},
     "output_type": "execute_result"
    }
   ],
   "source": [
    "(\n",
    "    np.linalg.norm(moon_acc_sun).to(u.km / u.s / u.day),\n",
    "    np.linalg.norm(moon_acc_earth).to(u.km / u.s / u.day),\n",
    ")"
   ]
  },
  {
   "cell_type": "markdown",
   "id": "6b3269f7",
   "metadata": {},
   "source": [
    "Answer: The acceleration on the Moon from the Sun is larger!"
   ]
  },
  {
   "cell_type": "markdown",
   "id": "ade580fa",
   "metadata": {},
   "source": [
    "### Exercise: Varying the initial conditions\n",
    "\n",
    "So far, we have only worked with initial conditions for a circular orbit. Compute a few more orbits using `leapfrog_integrate()`, but with different choices for initial conditions (e.g., try different y velocity values, or try generating random velocity vectors). What do generic orbits look like?"
   ]
  },
  {
   "cell_type": "code",
   "execution_count": null,
   "id": "5cd394fd",
   "metadata": {},
   "outputs": [],
   "source": []
  },
  {
   "cell_type": "markdown",
   "id": "577832ff",
   "metadata": {},
   "source": [
    "### Exercise: What is the Plummer density distribution?\n",
    "\n",
    "Using Poisson's equation, the density is related to the Laplacian of the potential such that:\n",
    "\n",
    "$$\n",
    "\\rho(r) = (4\\pi\\,G)^{-1} \\, \\nabla^2 \\Phi\n",
    "$$\n",
    "\n",
    "Using the spherical expression of the potential, we must take the spherical Laplacian (but the $\\partial \\phi$ and $\\partial \\theta$ terms are zero):\n",
    "\n",
    "$$\n",
    "\\begin{align}\n",
    "\\nabla^2 \\Phi(r) &= \\frac{1}{r^2} \\, \\frac{\\partial \\Phi}{\\partial r}\\left( r^2 \\, \\frac{\\partial \\Phi}{\\partial r} \\right)\\\\\n",
    "&= \\frac{1}{r^2} \\, \\frac{\\partial \\Phi}{\\partial r}\\left( \\frac{G\\,M\\,r^3}{(r^2 + b^2)^{3/2}} \\right)\\\\\n",
    "\\rho(r) &= \\frac{M}{\\frac{4}{3}\\pi\\,b^3} \\, \\left(\\frac{r^2}{b^2} + 1\\right)^{-5/2}\n",
    "\\end{align}\n",
    "$$\n",
    "\n",
    "Proof with `sympy`:"
   ]
  },
  {
   "cell_type": "code",
   "execution_count": 10,
   "id": "ba7075ba",
   "metadata": {},
   "outputs": [],
   "source": [
    "_G, _M, _b, _r = sy.symbols(\"G, M, b, r\", real=True, positive=True)"
   ]
  },
  {
   "cell_type": "code",
   "execution_count": 11,
   "id": "b7949711",
   "metadata": {},
   "outputs": [
    {
     "data": {
      "text/latex": [
       "$\\displaystyle - \\frac{G M}{\\sqrt{b^{2} + r^{2}}}$"
      ],
      "text/plain": [
       "-G*M/sqrt(b**2 + r**2)"
      ]
     },
     "execution_count": 11,
     "metadata": {},
     "output_type": "execute_result"
    }
   ],
   "source": [
    "plummer_Phi = -_G * _M / sy.sqrt(_r ** 2 + _b ** 2)\n",
    "plummer_Phi"
   ]
  },
  {
   "cell_type": "code",
   "execution_count": 12,
   "id": "e069d10d",
   "metadata": {},
   "outputs": [],
   "source": [
    "plummer_d2_Phi = sy.simplify(\n",
    "    1 / _r ** 2 * sy.diff(_r ** 2 * sy.diff(plummer_Phi, _r), _r)\n",
    ")"
   ]
  },
  {
   "cell_type": "code",
   "execution_count": 13,
   "id": "72e6eded",
   "metadata": {},
   "outputs": [
    {
     "data": {
      "text/latex": [
       "$\\displaystyle \\frac{3 M b^{2}}{4 \\pi \\left(b^{2} + r^{2}\\right)^{\\frac{5}{2}}}$"
      ],
      "text/plain": [
       "3*M*b**2/(4*pi*(b**2 + r**2)**(5/2))"
      ]
     },
     "execution_count": 13,
     "metadata": {},
     "output_type": "execute_result"
    }
   ],
   "source": [
    "plummer_dens = plummer_d2_Phi / (4 * sy.pi * _G)\n",
    "plummer_dens"
   ]
  },
  {
   "cell_type": "markdown",
   "id": "2d93d09b",
   "metadata": {},
   "source": [
    "### Exercise: Implement the Plummer Potential and Compute a Circular Orbit\n",
    "\n",
    "**First, derive an expression for the mass enclosed in the Plummer model**\n",
    "\n",
    "*Solution:*\n",
    "\n",
    "You can either take the derivative of the potential and compute the mass enclosed using the radial derivative of the potential, or compute the integral of the mass density given above. Here, we will use `sympy` to do both. First, using the derivative:"
   ]
  },
  {
   "cell_type": "code",
   "execution_count": 14,
   "id": "d93fa9ab",
   "metadata": {},
   "outputs": [
    {
     "data": {
      "text/latex": [
       "$\\displaystyle \\frac{\\sqrt{G} \\sqrt{M} r}{\\left(b^{2} + r^{2}\\right)^{\\frac{3}{4}}}$"
      ],
      "text/plain": [
       "sqrt(G)*sqrt(M)*r/(b**2 + r**2)**(3/4)"
      ]
     },
     "execution_count": 14,
     "metadata": {},
     "output_type": "execute_result"
    }
   ],
   "source": [
    "sy.simplify(sy.sqrt(_r * sy.diff(plummer_Phi, _r)))"
   ]
  },
  {
   "cell_type": "code",
   "execution_count": 15,
   "id": "3348cbd3",
   "metadata": {},
   "outputs": [
    {
     "data": {
      "text/latex": [
       "$\\displaystyle \\frac{\\sqrt{G} \\sqrt{M} r}{\\left(b^{2} + r^{2}\\right)^{\\frac{3}{4}}}$"
      ],
      "text/plain": [
       "sqrt(G)*sqrt(M)*r/(b**2 + r**2)**(3/4)"
      ]
     },
     "execution_count": 15,
     "metadata": {},
     "output_type": "execute_result"
    }
   ],
   "source": [
    "plummer_Menc = sy.integrate(4 * sy.pi * _r ** 2 * plummer_dens, _r)\n",
    "sy.simplify(sy.sqrt(_G * plummer_Menc / _r))"
   ]
  },
  {
   "cell_type": "markdown",
   "id": "e092aba5",
   "metadata": {},
   "source": [
    "**Next, implement a function to evaluate the circular velocity in the Plummer potential**\n",
    "\n",
    "*Solution:*"
   ]
  },
  {
   "cell_type": "code",
   "execution_count": 16,
   "id": "ef386a84",
   "metadata": {},
   "outputs": [],
   "source": [
    "def plummer_vcirc(r, M, b):\n",
    "    return np.sqrt(G * M) * r / (r ** 2 + b ** 2) ** (3 / 4)"
   ]
  },
  {
   "cell_type": "markdown",
   "id": "81517d1e",
   "metadata": {},
   "source": [
    "**Now implement an acceleration function for the Plummer model:**\n",
    "\n",
    "*Solution:* \n",
    "\n",
    "First we have to work out the Cartesian gradient of the potential. For the $x$ term, this is equivalent to:\n",
    "\n",
    "$$\n",
    "\\begin{align}\n",
    "\\frac{\\partial\\Phi}{\\partial r} &= \\frac{G\\,M\\,r}{(r^2 + b^2)^{3/2}}\\\\\n",
    "\\frac{\\partial\\Phi}{\\partial x} &= \\frac{\\partial\\Phi}{\\partial r} \\, \\frac{\\partial r}{\\partial x}\\\\\n",
    "&= \\frac{\\partial\\Phi}{\\partial r} \\, \\frac{x}{r}\\\\\n",
    "&= \\frac{G\\,M\\,x}{(r^2 + b^2)^{3/2}}\n",
    "\\end{align}\n",
    "$$\n",
    "\n",
    "so the $y$ and $z$ terms will be the same, with $x$ swapped out for each respective coordinate value."
   ]
  },
  {
   "cell_type": "code",
   "execution_count": 17,
   "id": "bbf29706",
   "metadata": {},
   "outputs": [],
   "source": [
    "def plummer_acceleration(xyz, M, b):\n",
    "    \"\"\"\n",
    "    Parameters\n",
    "    ----------\n",
    "    xyz : quantity-like\n",
    "        This should have shape (3, ...)\n",
    "    M : quantity-like\n",
    "        The total mass.\n",
    "    b : quantity-like\n",
    "        The scale radius.\n",
    "\n",
    "    \"\"\"\n",
    "    r2 = np.sum(xyz ** 2, axis=0)\n",
    "    dPhi_dr = G * M / (r2 + b ** 2) ** 1.5\n",
    "    return -dPhi_dr * xyz"
   ]
  },
  {
   "cell_type": "markdown",
   "id": "31058702",
   "metadata": {},
   "source": [
    "**Finally, compute a circular orbit starting at $(x, y, z) = (5, 0, 0)~\\textrm{pc}$ (i.e. $r_0 = 5~\\textrm{pc}$) using `leapfrog_integrate()` with the Plummer acceleration function you implemented, adopting the parameter values** $M=10^7~\\textrm{M}_\\odot$ and $b = 8~\\textrm{pc}$\n",
    "\n",
    "Think about what a good order of magnitude would be for the timestep (*Hint: what is $2\\pi\\,r_0 / v_\\textrm{circ}$?*\\)"
   ]
  },
  {
   "cell_type": "code",
   "execution_count": 18,
   "id": "8932cbad",
   "metadata": {},
   "outputs": [
    {
     "name": "stdout",
     "output_type": "stream",
     "text": [
      "35.78557862000943 km / s\n"
     ]
    }
   ],
   "source": [
    "r0 = 5 * u.pc\n",
    "x0 = [1, 0, 0] * r0\n",
    "\n",
    "plummer_M = 1e7 * u.Msun\n",
    "plummer_b = 8 * u.pc\n",
    "vcirc = plummer_vcirc(r0, plummer_M, plummer_b)\n",
    "print(vcirc.to(u.km / u.s))\n",
    "\n",
    "v0 = [0, 1, 0] * vcirc"
   ]
  },
  {
   "cell_type": "code",
   "execution_count": 19,
   "id": "2c93ec45",
   "metadata": {},
   "outputs": [
    {
     "data": {
      "text/latex": [
       "$0.0033531149 \\; \\mathrm{Myr}$"
      ],
      "text/plain": [
       "<Quantity 0.00335311 Myr>"
      ]
     },
     "execution_count": 19,
     "metadata": {},
     "output_type": "execute_result"
    }
   ],
   "source": [
    "dt = 2 * np.pi * r0 / vcirc / 256  # 256 steps per orbital period\n",
    "dt.to(u.Myr)"
   ]
  },
  {
   "cell_type": "code",
   "execution_count": 20,
   "id": "13aadad4",
   "metadata": {},
   "outputs": [],
   "source": [
    "plummer_ts, plummer_xs, plummer_vs = leapfrog_integrate(\n",
    "    plummer_acceleration,\n",
    "    x0=x0,\n",
    "    v0=v0,\n",
    "    dt=dt,\n",
    "    n_steps=1024,\n",
    "    acc_func_args=(plummer_M, plummer_b),\n",
    ")"
   ]
  },
  {
   "cell_type": "markdown",
   "id": "19ddde97",
   "metadata": {},
   "source": [
    "**Plot the orbit in x-y and x-z projections:**"
   ]
  },
  {
   "cell_type": "code",
   "execution_count": 21,
   "id": "636aed8d",
   "metadata": {},
   "outputs": [
    {
     "data": {
      "text/plain": [
       "Text(0.5, 0.98, 'Circular orbit in the Plummer model')"
      ]
     },
     "execution_count": 21,
     "metadata": {},
     "output_type": "execute_result"
    },
    {
     "data": {
      "image/png": "[encoded data removed]",
      "text/plain": [
       "<Figure size 1000x500 with 2 Axes>"
      ]
     },
     "metadata": {
      "image/png": {
       "height": 511,
       "width": 968
      }
     },
     "output_type": "display_data"
    }
   ],
   "source": [
    "fig, axes = plt.subplots(\n",
    "    1, 2, figsize=(10, 5), sharex=True, sharey=True, constrained_layout=True\n",
    ")\n",
    "\n",
    "# x-y\n",
    "axes[0].plot(plummer_xs[0], plummer_xs[1])\n",
    "axes[0].set_xlabel(f\"$x$ [{plummer_xs.unit:latex_inline}]\")\n",
    "axes[0].set_ylabel(f\"$y$ [{plummer_xs.unit:latex_inline}]\")\n",
    "\n",
    "# x-z\n",
    "axes[1].plot(plummer_xs[0], plummer_xs[2])\n",
    "axes[1].set_xlabel(f\"$x$ [{plummer_xs.unit:latex_inline}]\")\n",
    "axes[1].set_ylabel(f\"$z$ [{plummer_xs.unit:latex_inline}]\")\n",
    "\n",
    "for ax in axes:\n",
    "    ax.set_aspect(\"equal\")\n",
    "\n",
    "fig.suptitle(\"Circular orbit in the Plummer model\", fontsize=24)"
   ]
  },
  {
   "cell_type": "markdown",
   "id": "5e6ec6d4",
   "metadata": {},
   "source": [
    "Compute a few other random bound orbits in the Plummer model (using small, random velocity offsets from the circular orbit initial conditions). Plot these orbits in x-y and x-z projections. How are these orbits different from the orbits in the point mass potential?"
   ]
  },
  {
   "cell_type": "code",
   "execution_count": null,
   "id": "5b8dcd35",
   "metadata": {},
   "outputs": [],
   "source": [
    "rng = np.random.default_rng(seed=42)\n",
    "\n",
    "fig, axes = plt.subplots(\n",
    "    1, 2, figsize=(10, 5), sharex=True, sharey=True, constrained_layout=True\n",
    ")\n",
    "\n",
    "axes[0].set_xlabel(f\"$x$ [{plummer_xs.unit:latex_inline}]\")\n",
    "axes[0].set_ylabel(f\"$y$ [{plummer_xs.unit:latex_inline}]\")\n",
    "\n",
    "axes[1].set_xlabel(f\"$x$ [{plummer_xs.unit:latex_inline}]\")\n",
    "axes[1].set_ylabel(f\"$z$ [{plummer_xs.unit:latex_inline}]\")\n",
    "\n",
    "for n in range(4):\n",
    "    this_plummer_ts, this_plummer_xs, this_plummer_vs = leapfrog_integrate(\n",
    "        plummer_acceleration,\n",
    "        x0=x0,\n",
    "        v0=v0 + rng.normal(0, 10, size=3) * u.km / u.s,\n",
    "        dt=dt,\n",
    "        n_steps=1024,\n",
    "        acc_func_args=(plummer_M, plummer_b),\n",
    "    )\n",
    "\n",
    "    axes[0].plot(this_plummer_xs[0], this_plummer_xs[1], marker=\"\")\n",
    "    axes[1].plot(this_plummer_xs[0], this_plummer_xs[2], marker=\"\")"
   ]
  },
  {
   "cell_type": "markdown",
   "id": "256fe5a5",
   "metadata": {},
   "source": [
    "Generic orbits in the Plummer model (and any extended spherical mass distribution) are unlike orbits in the point mass potential: In the point mass model, orbits form closed (Keplerian) ellipses, whereas in generic spherical mass models, orbits are *not* closed and instead trace our \"rosette\" patterns. One property that all orbits in spherical mass models share (including orbits in the point mass model, Plummer model, and any other) is that they are confined to a plane. That plane can be oriented with any arbitrary angles with respect to the adopted coordinate system, but a fundamental property of orbits in spherical mass models is that the motion can be reduced to 2D planar motion with a suitable choice of coordinate system. This is *not* true in more complex mass models (e.g., axisymmetric/disky, triaxial models, or more realistic models of dark matter distributions in galaxies); so why is this the case in spherical models?"
   ]
  },
  {
   "cell_type": "markdown",
   "id": "175f6f54",
   "metadata": {},
   "source": [
    "### Exercise: Why do orbits in the point mass potential not fill a 2D space, but instead trace out a 1D curve? \n",
    "\n",
    "I.e. can you guess how many isolating integrals of motion there are for orbits in a point mass potential?\n",
    "\n",
    "*Answer*: \n",
    "\n",
    "5! For orbits to be restricted to a line (a 1D curve, and not a 2D plane), there must be one additional isolating integral of motion relative to generic orbits in spherical mass models."
   ]
  },
  {
   "cell_type": "markdown",
   "id": "b8b8100a",
   "metadata": {},
   "source": [
    "### Exercise: Compute the energy of the DOP853 orbit at all timesteps\n",
    "\n",
    "*Hint: there is a useful method on `Orbit` objects for doing this!*"
   ]
  },
  {
   "cell_type": "code",
   "execution_count": null,
   "id": "14a6d4df",
   "metadata": {},
   "outputs": [],
   "source": [
    "plummer_pot = gp.PlummerPotential(m=plummer_M, b=plummer_b, units=galactic)"
   ]
  },
  {
   "cell_type": "code",
   "execution_count": null,
   "id": "a196fb96",
   "metadata": {},
   "outputs": [],
   "source": [
    "rand_x0 = rng.normal(0, 5, size=3) * u.pc\n",
    "rand_v0 = rng.normal(0, 20, size=3) * u.km / u.s\n",
    "w0 = gd.PhaseSpacePosition(pos=rand_x0, vel=rand_v0)"
   ]
  },
  {
   "cell_type": "code",
   "execution_count": null,
   "id": "bc60e7e3",
   "metadata": {},
   "outputs": [],
   "source": [
    "gala_plummer_orbit_dop853 = plummer_pot.integrate_orbit(\n",
    "    w0, dt=dt, n_steps=1_000, Integrator=gi.DOPRI853Integrator\n",
    ")"
   ]
  },
  {
   "cell_type": "code",
   "execution_count": null,
   "id": "94f43803",
   "metadata": {},
   "outputs": [],
   "source": [
    "plummer_dop853_E = gala_plummer_orbit_dop853.energy()"
   ]
  }
 ],
 "metadata": {
  "kernelspec": {
   "display_name": "Python 3 (ipykernel)",
   "language": "python",
   "name": "python3"
  },
  "language_info": {
   "codemirror_mode": {
    "name": "ipython",
    "version": 3
   },
   "file_extension": ".py",
   "mimetype": "text/x-python",
   "name": "python",
   "nbconvert_exporter": "python",
   "pygments_lexer": "ipython3",
   "version": "3.7.7"
  },
  "toc": {
   "base_numbering": 1,
   "nav_menu": {},
   "number_sections": true,
   "sideBar": true,
   "skip_h1_title": false,
   "title_cell": "Table of Contents",
   "title_sidebar": "Contents",
   "toc_cell": false,
   "toc_position": {
    "height": "calc(100% - 180px)",
    "left": "10px",
    "top": "150px",
    "width": "373.316px"
   },
   "toc_section_display": true,
   "toc_window_display": true
  }
 },
 "nbformat": 4,
 "nbformat_minor": 5
}
